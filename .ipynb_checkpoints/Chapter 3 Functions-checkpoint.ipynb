{
 "cells": [
  {
   "cell_type": "markdown",
   "metadata": {},
   "source": [
    "# Chapter 3 Functions"
   ]
  },
  {
   "cell_type": "markdown",
   "metadata": {},
   "source": [
    "Functions are mini-programs within a program."
   ]
  },
  {
   "cell_type": "code",
   "execution_count": 1,
   "metadata": {},
   "outputs": [
    {
     "name": "stdout",
     "output_type": "stream",
     "text": [
      "Howdy!\n",
      "Howdy!!!\n",
      "Hello there.\n",
      "Howdy!\n",
      "Howdy!!!\n",
      "Hello there.\n",
      "Howdy!\n",
      "Howdy!!!\n",
      "Hello there.\n"
     ]
    }
   ],
   "source": [
    "def hello():\n",
    "    print(\"Howdy!\")\n",
    "    print(\"Howdy!!!\")\n",
    "    print(\"Hello there.\")\n",
    "    \n",
    "hello()\n",
    "hello()\n",
    "hello()"
   ]
  },
  {
   "cell_type": "markdown",
   "metadata": {},
   "source": [
    "The purpose of writing a function to avoid duplicating code chucks. For instance, the function _hello()_ has three print statements. If I want to produce the last code chunk, I would have to copy and paste the print statements three times leading to 9 lines of code. On this scale it seems negliable, but on the grand scale, it is pretty scary!"
   ]
  },
  {
   "cell_type": "markdown",
   "metadata": {},
   "source": [
    "## def Statements with Parameters"
   ]
  },
  {
   "cell_type": "code",
   "execution_count": 3,
   "metadata": {},
   "outputs": [
    {
     "name": "stdout",
     "output_type": "stream",
     "text": [
      "Hello, Alice\n",
      "Hello, Bob\n"
     ]
    }
   ],
   "source": [
    "def hello(name):\n",
    "    print(\"Hello, \" + name)\n",
    "    \n",
    "    \n",
    "hello(\"Alice\")\n",
    "hello(\"Bob\")"
   ]
  },
  {
   "cell_type": "markdown",
   "metadata": {},
   "source": [
    "## Return values and return Statements\n",
    "\n",
    "In general, the value that a fucntion call evalues to is called the return value of the function."
   ]
  },
  {
   "cell_type": "code",
   "execution_count": 4,
   "metadata": {},
   "outputs": [
    {
     "name": "stdout",
     "output_type": "stream",
     "text": [
      "It is decidely so.\n"
     ]
    }
   ],
   "source": [
    "import random\n",
    "\n",
    "def getAnswer(answerNumber):\n",
    "    if answerNumber == 1:\n",
    "        return \"It is certain\"\n",
    "    elif answerNumber == 2:\n",
    "        return \"It is decidely so.\"\n",
    "    elif answerNumber == 3:\n",
    "        return \"Yes\"\n",
    "    elif answerNumber == 4:\n",
    "        return \"Replay hazy, try later\"\n",
    "    elif answerNumber == 5:\n",
    "        return \"Ask again later\"\n",
    "    elif answerNumber == 6:\n",
    "        return \"Concentrate and ask again\"\n",
    "    elif answerNumber == 7:\n",
    "        return \"My reply is no\"\n",
    "    elif answerNumber == 8:\n",
    "        return \"Outlook not so good\"\n",
    "    elif answerNumber == 9:\n",
    "        return \"Very doubtful\"\n",
    "    \n",
    "r = random.randint(1, 9)\n",
    "fortune = getAnswer(r)\n",
    "print(fortune)"
   ]
  },
  {
   "cell_type": "markdown",
   "metadata": {},
   "source": [
    "## The None Value\n",
    "\n",
    "The value __None__ represents the absence of a value. Like other Booleans, it must start with a capital."
   ]
  },
  {
   "cell_type": "code",
   "execution_count": 5,
   "metadata": {},
   "outputs": [
    {
     "name": "stdout",
     "output_type": "stream",
     "text": [
      "Hello!\n"
     ]
    },
    {
     "data": {
      "text/plain": [
       "True"
      ]
     },
     "execution_count": 5,
     "metadata": {},
     "output_type": "execute_result"
    }
   ],
   "source": [
    "spam = print(\"Hello!\")\n",
    "None == spam"
   ]
  },
  {
   "cell_type": "markdown",
   "metadata": {},
   "source": [
    "## Keyword Arguments and the print() Function\n",
    "\n",
    "Most arguments are identified by their position in the function call. There is an option to use keyword arguments for function arguments, but most of these are for _optional parameters_."
   ]
  },
  {
   "cell_type": "code",
   "execution_count": 6,
   "metadata": {},
   "outputs": [
    {
     "name": "stdout",
     "output_type": "stream",
     "text": [
      "Hello\n",
      "World\n"
     ]
    }
   ],
   "source": [
    "print(\"Hello\")\n",
    "print(\"World\")"
   ]
  },
  {
   "cell_type": "code",
   "execution_count": 7,
   "metadata": {},
   "outputs": [
    {
     "name": "stdout",
     "output_type": "stream",
     "text": [
      "HelloWorld\n"
     ]
    }
   ],
   "source": [
    "print(\"Hello\", end = \"\")\n",
    "print(\"World\")"
   ]
  },
  {
   "cell_type": "code",
   "execution_count": 8,
   "metadata": {},
   "outputs": [
    {
     "name": "stdout",
     "output_type": "stream",
     "text": [
      "cats dogs mice\n",
      "cats,dogs,mice\n"
     ]
    }
   ],
   "source": [
    "print(\"cats\", \"dogs\", \"mice\")\n",
    "print(\"cats\", \"dogs\", \"mice\", sep = \",\")"
   ]
  },
  {
   "cell_type": "markdown",
   "metadata": {},
   "source": [
    "## The Call Stack\n",
    "\n",
    "Similar to a meandering conversation, calling a function doesn't send the execution on a one-way trip to the top of a function. "
   ]
  },
  {
   "cell_type": "code",
   "execution_count": 9,
   "metadata": {},
   "outputs": [
    {
     "name": "stdout",
     "output_type": "stream",
     "text": [
      "a() starts\n",
      "b() starts\n",
      "c() starts\n",
      "c() returns\n",
      "b() returns\n",
      "d() starts\n",
      "d() returns\n",
      "a() returns\n"
     ]
    }
   ],
   "source": [
    "def a():\n",
    "    print(\"a() starts\")\n",
    "    b()\n",
    "    d()\n",
    "    print(\"a() returns\")\n",
    "    \n",
    "def b():\n",
    "    print(\"b() starts\")\n",
    "    c()\n",
    "    print(\"b() returns\")\n",
    "    \n",
    "def c():\n",
    "    print(\"c() starts\")\n",
    "    print(\"c() returns\")\n",
    "    \n",
    "def d(): \n",
    "    print(\"d() starts\")\n",
    "    print(\"d() returns\")\n",
    "    \n",
    "a()"
   ]
  },
  {
   "cell_type": "markdown",
   "metadata": {},
   "source": [
    "The _call stack_ is how Python remembers where to return the expression after each function call. The call stack isn't stored in a variable in your program; rather, Python hanldes it behind the scenes."
   ]
  },
  {
   "cell_type": "markdown",
   "metadata": {},
   "source": [
    "## Local and Global Scope\n",
    "\n",
    "Parameters and variables that are assigned in a called function are said to exist in that function's _local scope_ and is called a _local variable_. Meaning, they only exist in that function. Variables assigned outside the function exist in the _global scope_ and are called _global variables_.\n",
    "\n",
    "The reason why Python has difference scopes instead of just making everything a global variable is so that when variables are modified by the code in a particular call to a function, the function interacts with the rest of the program only through its parameters and the return value.\n",
    "\n",
    "Additionally, local scopes cannot use variables in other local scopes. If a variable exists in function _a()_, it cannot be called in function _b()_. The only way _b()_ can use a variable in _a()_ is if it is returned and passed to _b()_ as an argument. \n",
    "\n",
    "Global variables, however, can be read by a local scope. "
   ]
  },
  {
   "cell_type": "code",
   "execution_count": 10,
   "metadata": {},
   "outputs": [
    {
     "name": "stdout",
     "output_type": "stream",
     "text": [
      "42\n",
      "42\n"
     ]
    }
   ],
   "source": [
    "def spam():\n",
    "    print(eggs)\n",
    "    \n",
    "eggs = 42\n",
    "spam()\n",
    "print(eggs)"
   ]
  },
  {
   "cell_type": "markdown",
   "metadata": {},
   "source": [
    "It's okay to use the same naming convention for global and local variables; however, it is not advised. Consider the following example:"
   ]
  },
  {
   "cell_type": "code",
   "execution_count": 11,
   "metadata": {},
   "outputs": [
    {
     "name": "stdout",
     "output_type": "stream",
     "text": [
      "bacon local\n",
      "spam local\n",
      "bacon local\n",
      "global\n"
     ]
    }
   ],
   "source": [
    "def spam():\n",
    "    eggs = \"spam local\"\n",
    "    print(eggs)\n",
    "    \n",
    "def bacon():\n",
    "    eggs = \"bacon local\"\n",
    "    print(eggs)\n",
    "    spam()\n",
    "    print(eggs)\n",
    "    \n",
    "eggs = \"global\"\n",
    "bacon()\n",
    "print(eggs)"
   ]
  },
  {
   "cell_type": "markdown",
   "metadata": {},
   "source": [
    "## The global statement\n",
    "\n"
   ]
  },
  {
   "cell_type": "code",
   "execution_count": null,
   "metadata": {},
   "outputs": [],
   "source": []
  }
 ],
 "metadata": {
  "kernelspec": {
   "display_name": "Python 3",
   "language": "python",
   "name": "python3"
  },
  "language_info": {
   "codemirror_mode": {
    "name": "ipython",
    "version": 3
   },
   "file_extension": ".py",
   "mimetype": "text/x-python",
   "name": "python",
   "nbconvert_exporter": "python",
   "pygments_lexer": "ipython3",
   "version": "3.7.3"
  }
 },
 "nbformat": 4,
 "nbformat_minor": 2
}
