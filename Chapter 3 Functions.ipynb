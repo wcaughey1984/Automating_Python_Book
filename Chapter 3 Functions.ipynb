{
 "cells": [
  {
   "cell_type": "markdown",
   "metadata": {},
   "source": [
    "# Chapter 3 Functions"
   ]
  },
  {
   "cell_type": "markdown",
   "metadata": {},
   "source": [
    "Functions are mini-programs within a program."
   ]
  },
  {
   "cell_type": "code",
   "execution_count": 1,
   "metadata": {},
   "outputs": [
    {
     "name": "stdout",
     "output_type": "stream",
     "text": [
      "Howdy!\n",
      "Howdy!!!\n",
      "Hello there.\n",
      "Howdy!\n",
      "Howdy!!!\n",
      "Hello there.\n",
      "Howdy!\n",
      "Howdy!!!\n",
      "Hello there.\n"
     ]
    }
   ],
   "source": [
    "def hello():\n",
    "    print(\"Howdy!\")\n",
    "    print(\"Howdy!!!\")\n",
    "    print(\"Hello there.\")\n",
    "    \n",
    "hello()\n",
    "hello()\n",
    "hello()"
   ]
  },
  {
   "cell_type": "markdown",
   "metadata": {},
   "source": [
    "The purpose of writing a function to avoid duplicating code chucks. For instance, the function _hello()_ has three print statements. If I want to produce the last code chunk, I would have to copy and paste the print statements three times leading to 9 lines of code. On this scale it seems negliable, but on the grand scale, it is pretty scary!"
   ]
  },
  {
   "cell_type": "markdown",
   "metadata": {},
   "source": [
    "## def Statements with Parameters"
   ]
  },
  {
   "cell_type": "code",
   "execution_count": 3,
   "metadata": {},
   "outputs": [
    {
     "name": "stdout",
     "output_type": "stream",
     "text": [
      "Hello, Alice\n",
      "Hello, Bob\n"
     ]
    }
   ],
   "source": [
    "def hello(name):\n",
    "    print(\"Hello, \" + name)\n",
    "    \n",
    "    \n",
    "hello(\"Alice\")\n",
    "hello(\"Bob\")"
   ]
  },
  {
   "cell_type": "markdown",
   "metadata": {},
   "source": [
    "## Return values and return Statements\n",
    "\n",
    "In general, the value that a fucntion call evalues to is called the return value of the function."
   ]
  },
  {
   "cell_type": "code",
   "execution_count": 4,
   "metadata": {},
   "outputs": [
    {
     "name": "stdout",
     "output_type": "stream",
     "text": [
      "It is decidely so.\n"
     ]
    }
   ],
   "source": [
    "import random\n",
    "\n",
    "def getAnswer(answerNumber):\n",
    "    if answerNumber == 1:\n",
    "        return \"It is certain\"\n",
    "    elif answerNumber == 2:\n",
    "        return \"It is decidely so.\"\n",
    "    elif answerNumber == 3:\n",
    "        return \"Yes\"\n",
    "    elif answerNumber == 4:\n",
    "        return \"Replay hazy, try later\"\n",
    "    elif answerNumber == 5:\n",
    "        return \"Ask again later\"\n",
    "    elif answerNumber == 6:\n",
    "        return \"Concentrate and ask again\"\n",
    "    elif answerNumber == 7:\n",
    "        return \"My reply is no\"\n",
    "    elif answerNumber == 8:\n",
    "        return \"Outlook not so good\"\n",
    "    elif answerNumber == 9:\n",
    "        return \"Very doubtful\"\n",
    "    \n",
    "r = random.randint(1, 9)\n",
    "fortune = getAnswer(r)\n",
    "print(fortune)"
   ]
  },
  {
   "cell_type": "markdown",
   "metadata": {},
   "source": [
    "## The None Value\n",
    "\n",
    "The value __None__ represents the absence of a value. Like other Booleans, it must start with a capital."
   ]
  },
  {
   "cell_type": "code",
   "execution_count": 5,
   "metadata": {},
   "outputs": [
    {
     "name": "stdout",
     "output_type": "stream",
     "text": [
      "Hello!\n"
     ]
    },
    {
     "data": {
      "text/plain": [
       "True"
      ]
     },
     "execution_count": 5,
     "metadata": {},
     "output_type": "execute_result"
    }
   ],
   "source": [
    "spam = print(\"Hello!\")\n",
    "None == spam"
   ]
  },
  {
   "cell_type": "markdown",
   "metadata": {},
   "source": [
    "## Keyword Arguments and the print() Function\n",
    "\n",
    "Most arguments are identified by their position in the function call. There is an option to use keyword arguments for function arguments, but most of these are for _optional parameters_."
   ]
  },
  {
   "cell_type": "code",
   "execution_count": 6,
   "metadata": {},
   "outputs": [
    {
     "name": "stdout",
     "output_type": "stream",
     "text": [
      "Hello\n",
      "World\n"
     ]
    }
   ],
   "source": [
    "print(\"Hello\")\n",
    "print(\"World\")"
   ]
  },
  {
   "cell_type": "code",
   "execution_count": 7,
   "metadata": {},
   "outputs": [
    {
     "name": "stdout",
     "output_type": "stream",
     "text": [
      "HelloWorld\n"
     ]
    }
   ],
   "source": [
    "print(\"Hello\", end = \"\")\n",
    "print(\"World\")"
   ]
  },
  {
   "cell_type": "code",
   "execution_count": 8,
   "metadata": {},
   "outputs": [
    {
     "name": "stdout",
     "output_type": "stream",
     "text": [
      "cats dogs mice\n",
      "cats,dogs,mice\n"
     ]
    }
   ],
   "source": [
    "print(\"cats\", \"dogs\", \"mice\")\n",
    "print(\"cats\", \"dogs\", \"mice\", sep = \",\")"
   ]
  },
  {
   "cell_type": "markdown",
   "metadata": {},
   "source": [
    "## The Call Stack\n",
    "\n",
    "Similar to a meandering conversation, calling a function doesn't send the execution on a one-way trip to the top of a function. "
   ]
  },
  {
   "cell_type": "code",
   "execution_count": 9,
   "metadata": {},
   "outputs": [
    {
     "name": "stdout",
     "output_type": "stream",
     "text": [
      "a() starts\n",
      "b() starts\n",
      "c() starts\n",
      "c() returns\n",
      "b() returns\n",
      "d() starts\n",
      "d() returns\n",
      "a() returns\n"
     ]
    }
   ],
   "source": [
    "def a():\n",
    "    print(\"a() starts\")\n",
    "    b()\n",
    "    d()\n",
    "    print(\"a() returns\")\n",
    "    \n",
    "def b():\n",
    "    print(\"b() starts\")\n",
    "    c()\n",
    "    print(\"b() returns\")\n",
    "    \n",
    "def c():\n",
    "    print(\"c() starts\")\n",
    "    print(\"c() returns\")\n",
    "    \n",
    "def d(): \n",
    "    print(\"d() starts\")\n",
    "    print(\"d() returns\")\n",
    "    \n",
    "a()"
   ]
  },
  {
   "cell_type": "markdown",
   "metadata": {},
   "source": [
    "The _call stack_ is how Python remembers where to return the expression after each function call. The call stack isn't stored in a variable in your program; rather, Python hanldes it behind the scenes."
   ]
  },
  {
   "cell_type": "markdown",
   "metadata": {},
   "source": [
    "## Local and Global Scope\n",
    "\n",
    "Parameters and variables that are assigned in a called function are said to exist in that function's _local scope_ and is called a _local variable_. Meaning, they only exist in that function. Variables assigned outside the function exist in the _global scope_ and are called _global variables_.\n",
    "\n",
    "The reason why Python has difference scopes instead of just making everything a global variable is so that when variables are modified by the code in a particular call to a function, the function interacts with the rest of the program only through its parameters and the return value.\n",
    "\n",
    "Additionally, local scopes cannot use variables in other local scopes. If a variable exists in function _a()_, it cannot be called in function _b()_. The only way _b()_ can use a variable in _a()_ is if it is returned and passed to _b()_ as an argument. \n",
    "\n",
    "Global variables, however, can be read by a local scope. "
   ]
  },
  {
   "cell_type": "code",
   "execution_count": 10,
   "metadata": {},
   "outputs": [
    {
     "name": "stdout",
     "output_type": "stream",
     "text": [
      "42\n",
      "42\n"
     ]
    }
   ],
   "source": [
    "def spam():\n",
    "    print(eggs)\n",
    "    \n",
    "eggs = 42\n",
    "spam()\n",
    "print(eggs)"
   ]
  },
  {
   "cell_type": "markdown",
   "metadata": {},
   "source": [
    "It's okay to use the same naming convention for global and local variables; however, it is not advised. Consider the following example:"
   ]
  },
  {
   "cell_type": "code",
   "execution_count": 11,
   "metadata": {},
   "outputs": [
    {
     "name": "stdout",
     "output_type": "stream",
     "text": [
      "bacon local\n",
      "spam local\n",
      "bacon local\n",
      "global\n"
     ]
    }
   ],
   "source": [
    "def spam():\n",
    "    eggs = \"spam local\"\n",
    "    print(eggs)\n",
    "    \n",
    "def bacon():\n",
    "    eggs = \"bacon local\"\n",
    "    print(eggs)\n",
    "    spam()\n",
    "    print(eggs)\n",
    "    \n",
    "eggs = \"global\"\n",
    "bacon()\n",
    "print(eggs)"
   ]
  },
  {
   "cell_type": "markdown",
   "metadata": {},
   "source": [
    "## The global statement\n",
    "\n",
    "If I need to modify a global variable within a function, use the _global_ statement. When I use this statement, it tells Python that the variable refers to a global variable and not to create a local variable. \n"
   ]
  },
  {
   "cell_type": "code",
   "execution_count": 1,
   "metadata": {},
   "outputs": [
    {
     "name": "stdout",
     "output_type": "stream",
     "text": [
      "spam\n"
     ]
    }
   ],
   "source": [
    "def spam():\n",
    "    global eggs\n",
    "    eggs = 'spam'\n",
    "    \n",
    "eggs = 'global'\n",
    "spam()\n",
    "print(eggs)"
   ]
  },
  {
   "cell_type": "markdown",
   "metadata": {},
   "source": [
    "There are four rules to tell whether a variable is in a local or global score:\n",
    "\n",
    "1. If a variable is being used in the global scope (that is, outside of all functions), the it is always a global variable.\n",
    "2. If there is a global statement for that variable in a function, it is a global variable.\n",
    "3. Otherwise, if the variable is used in an assignement statment in the function, it is a local variable.\n",
    "4. But if the variable is not used in an assignment statment, it is a global variable."
   ]
  },
  {
   "cell_type": "code",
   "execution_count": 2,
   "metadata": {},
   "outputs": [
    {
     "name": "stdout",
     "output_type": "stream",
     "text": [
      "spam\n"
     ]
    }
   ],
   "source": [
    "def spam():\n",
    "    global eggs\n",
    "    eggs = 'spam' # this is a global variable\n",
    "    \n",
    "def bacon():\n",
    "    eggs = 'bacon' # this is a local variable\n",
    "    \n",
    "def ham():\n",
    "    print(eggs) # This is a global variable\n",
    "    \n",
    "eggs = 42 # This is a global variable\n",
    "spam()\n",
    "print(eggs)"
   ]
  },
  {
   "cell_type": "markdown",
   "metadata": {},
   "source": [
    "__NOTE__: The code in a function can't use a local variable named eggs and then use the global eggs variable later in the same function."
   ]
  },
  {
   "cell_type": "markdown",
   "metadata": {},
   "source": [
    "## Exception Handling\n",
    "\n",
    "Up to this point, if an error (or exception) occurs in my coding, the code fails. In the real world, I don't want this to happen. I want to be able to handle these errors in the proper way.\n",
    "\n",
    "In Python, errors are handled by the _try_ and _except_ statemetns. "
   ]
  },
  {
   "cell_type": "code",
   "execution_count": 3,
   "metadata": {},
   "outputs": [
    {
     "name": "stdout",
     "output_type": "stream",
     "text": [
      "21.0\n",
      "3.5\n",
      "Error: Invalid Argument\n",
      "None\n",
      "42.0\n"
     ]
    }
   ],
   "source": [
    "def spam(divideBy):\n",
    "    try:\n",
    "        return 42 / divideBy\n",
    "    except ZeroDivisionError:\n",
    "        print('Error: Invalid Argument')\n",
    "        \n",
    "print(spam(2))\n",
    "print(spam(12))\n",
    "print(spam(0))\n",
    "print(spam(1))\n"
   ]
  },
  {
   "cell_type": "markdown",
   "metadata": {},
   "source": [
    "## Short program: Zigzag"
   ]
  },
  {
   "cell_type": "code",
   "execution_count": null,
   "metadata": {},
   "outputs": [
    {
     "name": "stdout",
     "output_type": "stream",
     "text": [
      "*********\n",
      " *********\n",
      "  *********\n",
      "   *********\n",
      "    *********\n",
      "     *********\n",
      "      *********\n",
      "       *********\n",
      "        *********\n",
      "         *********\n",
      "          *********\n",
      "           *********\n",
      "            *********\n",
      "             *********\n",
      "              *********\n",
      "               *********\n",
      "                *********\n",
      "                 *********\n",
      "                  *********\n",
      "                   *********\n",
      "                    *********\n",
      "                   *********\n",
      "                  *********\n",
      "                 *********\n",
      "                *********\n",
      "               *********\n",
      "              *********\n",
      "             *********\n",
      "            *********\n",
      "           *********\n",
      "          *********\n",
      "         *********\n",
      "        *********\n",
      "       *********\n",
      "      *********\n",
      "     *********\n",
      "    *********\n",
      "   *********\n",
      "  *********\n",
      " *********\n",
      "*********\n",
      " *********\n",
      "  *********\n",
      "   *********\n",
      "    *********\n",
      "     *********\n",
      "      *********\n",
      "       *********\n",
      "        *********\n",
      "         *********\n",
      "          *********\n",
      "           *********\n",
      "            *********\n",
      "             *********\n",
      "              *********\n",
      "               *********\n",
      "                *********\n",
      "                 *********\n",
      "                  *********\n",
      "                   *********\n",
      "                    *********\n",
      "                   *********\n",
      "                  *********\n",
      "                 *********\n",
      "                *********\n",
      "               *********\n",
      "              *********\n",
      "             *********\n",
      "            *********\n",
      "           *********\n",
      "          *********\n",
      "         *********\n",
      "        *********\n",
      "       *********\n",
      "      *********\n",
      "     *********\n",
      "    *********\n",
      "   *********\n",
      "  *********\n",
      " *********\n",
      "*********\n",
      " *********\n",
      "  *********\n",
      "   *********\n",
      "    *********\n",
      "     *********\n",
      "      *********\n",
      "       *********\n",
      "        *********\n",
      "         *********\n",
      "          *********\n",
      "           *********\n",
      "            *********\n",
      "             *********\n",
      "              *********\n",
      "               *********\n",
      "                *********\n",
      "                 *********\n",
      "                  *********\n",
      "                   *********\n",
      "                    *********\n",
      "                   *********\n",
      "                  *********\n",
      "                 *********\n",
      "                *********\n",
      "               *********\n",
      "              *********\n",
      "             *********\n",
      "            *********\n",
      "           *********\n",
      "          *********\n",
      "         *********\n",
      "        *********\n",
      "       *********\n",
      "      *********\n",
      "     *********\n",
      "    *********\n",
      "   *********\n",
      "  *********\n",
      " *********\n",
      "*********\n",
      " *********\n",
      "  *********\n",
      "   *********\n",
      "    *********\n",
      "     *********\n",
      "      *********\n",
      "       *********\n",
      "        *********\n",
      "         *********\n",
      "          *********\n",
      "           *********\n",
      "            *********\n",
      "             *********\n",
      "              *********\n",
      "               *********\n",
      "                *********\n",
      "                 *********\n",
      "                  *********\n",
      "                   *********\n",
      "                    *********\n",
      "                   *********\n",
      "                  *********\n",
      "                 *********\n",
      "                *********\n",
      "               *********\n",
      "              *********\n",
      "             *********\n",
      "            *********\n",
      "           *********\n",
      "          *********\n",
      "         *********\n",
      "        *********\n",
      "       *********\n",
      "      *********\n",
      "     *********\n",
      "    *********\n",
      "   *********\n",
      "  *********\n",
      " *********\n",
      "*********\n",
      " *********\n",
      "  *********\n",
      "   *********\n",
      "    *********\n",
      "     *********\n",
      "      *********\n",
      "       *********\n",
      "        *********\n",
      "         *********\n",
      "          *********\n",
      "           *********\n",
      "            *********\n",
      "             *********\n",
      "              *********\n",
      "               *********\n",
      "                *********\n",
      "                 *********\n",
      "                  *********\n",
      "                   *********\n",
      "                    *********\n",
      "                   *********\n",
      "                  *********\n",
      "                 *********\n",
      "                *********\n",
      "               *********\n",
      "              *********\n",
      "             *********\n",
      "            *********\n",
      "           *********\n",
      "          *********\n",
      "         *********\n",
      "        *********\n",
      "       *********\n",
      "      *********\n",
      "     *********\n",
      "    *********\n",
      "   *********\n",
      "  *********\n",
      " *********\n",
      "*********\n",
      " *********\n",
      "  *********\n",
      "   *********\n",
      "    *********\n",
      "     *********\n",
      "      *********\n",
      "       *********\n",
      "        *********\n",
      "         *********\n",
      "          *********\n",
      "           *********\n",
      "            *********\n",
      "             *********\n",
      "              *********\n",
      "               *********\n",
      "                *********\n",
      "                 *********\n",
      "                  *********\n",
      "                   *********\n",
      "                    *********\n",
      "                   *********\n",
      "                  *********\n",
      "                 *********\n",
      "                *********\n",
      "               *********\n",
      "              *********\n",
      "             *********\n",
      "            *********\n",
      "           *********\n",
      "          *********\n",
      "         *********\n",
      "        *********\n",
      "       *********\n",
      "      *********\n",
      "     *********\n",
      "    *********\n",
      "   *********\n",
      "  *********\n",
      " *********\n",
      "*********\n",
      " *********\n",
      "  *********\n",
      "   *********\n",
      "    *********\n",
      "     *********\n",
      "      *********\n",
      "       *********\n",
      "        *********\n",
      "         *********\n",
      "          *********\n",
      "           *********\n",
      "            *********\n",
      "             *********\n",
      "              *********\n",
      "               *********\n",
      "                *********\n",
      "                 *********\n",
      "                  *********\n",
      "                   *********\n",
      "                    *********\n",
      "                   *********\n",
      "                  *********\n",
      "                 *********\n",
      "                *********\n",
      "               *********\n",
      "              *********\n",
      "             *********\n",
      "            *********\n",
      "           *********\n",
      "          *********\n",
      "         *********\n",
      "        *********\n",
      "       *********\n",
      "      *********\n",
      "     *********\n",
      "    *********\n",
      "   *********\n",
      "  *********\n",
      " *********\n",
      "*********\n",
      " *********\n",
      "  *********\n",
      "   *********\n",
      "    *********\n",
      "     *********\n",
      "      *********\n",
      "       *********\n",
      "        *********\n",
      "         *********\n",
      "          *********\n",
      "           *********\n",
      "            *********\n",
      "             *********\n",
      "              *********\n",
      "               *********\n",
      "                *********\n",
      "                 *********\n",
      "                  *********\n",
      "                   *********\n",
      "                    *********\n",
      "                   *********\n",
      "                  *********\n",
      "                 *********\n",
      "                *********\n",
      "               *********\n",
      "              *********\n",
      "             *********\n",
      "            *********\n",
      "           *********\n",
      "          *********\n",
      "         *********\n",
      "        *********\n",
      "       *********\n",
      "      *********\n",
      "     *********\n",
      "    *********\n",
      "   *********\n",
      "  *********\n",
      " *********\n",
      "*********\n",
      " *********\n",
      "  *********\n",
      "   *********\n",
      "    *********\n",
      "     *********\n",
      "      *********\n",
      "       *********\n",
      "        *********\n",
      "         *********\n",
      "          *********\n",
      "           *********\n",
      "            *********\n",
      "             *********\n",
      "              *********\n",
      "               *********\n",
      "                *********\n",
      "                 *********\n",
      "                  *********\n",
      "                   *********\n",
      "                    *********\n",
      "                   *********\n",
      "                  *********\n",
      "                 *********\n",
      "                *********\n",
      "               *********\n",
      "              *********\n",
      "             *********\n",
      "            *********\n",
      "           *********\n",
      "          *********\n",
      "         *********\n",
      "        *********\n",
      "       *********\n",
      "      *********\n",
      "     *********\n",
      "    *********\n",
      "   *********\n",
      "  *********\n",
      " *********\n",
      "*********\n",
      " *********\n",
      "  *********\n",
      "   *********\n",
      "    *********\n",
      "     *********\n",
      "      *********\n",
      "       *********\n",
      "        *********\n",
      "         *********\n",
      "          *********\n",
      "           *********\n",
      "            *********\n",
      "             *********\n",
      "              *********\n",
      "               *********\n",
      "                *********\n",
      "                 *********\n",
      "                  *********\n",
      "                   *********\n",
      "                    *********\n",
      "                   *********\n",
      "                  *********\n",
      "                 *********\n",
      "                *********\n",
      "               *********\n",
      "              *********\n",
      "             *********\n",
      "            *********\n",
      "           *********\n",
      "          *********\n",
      "         *********\n",
      "        *********\n",
      "       *********\n",
      "      *********\n",
      "     *********\n",
      "    *********\n",
      "   *********\n",
      "  *********\n",
      " *********\n",
      "*********\n",
      " *********\n",
      "  *********\n",
      "   *********\n",
      "    *********\n",
      "     *********\n",
      "      *********\n",
      "       *********\n",
      "        *********\n",
      "         *********\n",
      "          *********\n",
      "           *********\n",
      "            *********\n",
      "             *********\n"
     ]
    },
    {
     "name": "stdout",
     "output_type": "stream",
     "text": [
      "              *********\n",
      "               *********\n",
      "                *********\n",
      "                 *********\n",
      "                  *********\n",
      "                   *********\n",
      "                    *********\n",
      "                   *********\n",
      "                  *********\n",
      "                 *********\n",
      "                *********\n",
      "               *********\n",
      "              *********\n",
      "             *********\n",
      "            *********\n",
      "           *********\n"
     ]
    }
   ],
   "source": [
    "import time, sys\n",
    "indent = 0\n",
    "indentIncreasing = True # Whether the indentation is increasing or not\n",
    "\n",
    "try:\n",
    "    while True:\n",
    "        print(' ' * indent, end = '')\n",
    "        print('*********')\n",
    "        time.sleep(0.1)\n",
    "        \n",
    "        if indentIncreasing:\n",
    "            # Increase the number of spaces\n",
    "            indent = indent + 1\n",
    "            if indent == 20:\n",
    "                # Change directions!\n",
    "                indentIncreasing = False\n",
    "                \n",
    "        else:\n",
    "            # Decrease the indents\n",
    "            indent = indent - 1\n",
    "            if indent == 0:\n",
    "                #change Direction\n",
    "                indentIncreasing = True\n",
    "                \n",
    "except KeyboardInterrupt:\n",
    "    sys.exit()\n",
    "    \n"
   ]
  },
  {
   "cell_type": "code",
   "execution_count": null,
   "metadata": {},
   "outputs": [],
   "source": [
    "import time, sys\n",
    "indent = 0\n",
    "indentIncreasing = True # Whether the indentation is increasing or not\n",
    "\n",
    "try:\n",
    "    while True:\n",
    "        print(' ' * indent, end = '')\n",
    "        print('*********')\n",
    "        time.sleep(0.1)\n",
    "        \n",
    "        if indentIncreasing:\n",
    "            # Increase the number of spaces\n",
    "            indent = indent + 1\n",
    "            if indent == 20:\n",
    "                # Change directions!\n",
    "                indentIncreasing = False\n",
    "                \n",
    "        else:\n",
    "            # Decrease the indents\n",
    "            indent = indent - 1\n",
    "            if indent == 0:\n",
    "                #change Direction\n",
    "                indentIncreasing = True\n",
    "                \n",
    "except KeyboardInterrupt:\n",
    "    sys.exit()\n",
    "    \n"
   ]
  },
  {
   "cell_type": "markdown",
   "metadata": {},
   "source": [
    " ## Practice Questions\n",
    " \n",
    " ### Question 1\n",
    " \n",
    " _Why are functions adventageous to have in your programs?_\n",
    " \n",
    "Functions decrease the chances of error due to duplicate code. Also, functions make code easier to read and work with."
   ]
  },
  {
   "cell_type": "markdown",
   "metadata": {},
   "source": [
    "### Question 2\n",
    "\n",
    "_When does the code in a function execute: when the function is defined or when the the function is called?_\n",
    "\n",
    "The __def__ statement tells Python to define the function and put it somewhere. It is not until the the function is called that execution happens."
   ]
  },
  {
   "cell_type": "markdown",
   "metadata": {},
   "source": [
    "### Question 3\n",
    "\n",
    "_What statement creates a function?_\n",
    "\n",
    "__def__"
   ]
  },
  {
   "cell_type": "markdown",
   "metadata": {},
   "source": [
    "### Question 4\n",
    "\n",
    "_What is the difference between a function and a function call?_\n",
    "\n",
    "A function is mini-program. A function call is when the function is executed."
   ]
  },
  {
   "cell_type": "markdown",
   "metadata": {},
   "source": [
    "### Question 5\n",
    "\n",
    "_How many global scopes are there in a Python program? How many local scopes?_\n",
    "\n",
    "There is one global scope. There is also only one local scope."
   ]
  },
  {
   "cell_type": "markdown",
   "metadata": {},
   "source": [
    "### Question 6\n",
    "\n",
    "_What happens to variables in a local scope when the function call returns?_\n",
    "\n",
    "The variables are forgotten."
   ]
  },
  {
   "cell_type": "markdown",
   "metadata": {},
   "source": [
    "### Question 7\n",
    "\n",
    "_What is a return value? Can a return value be part of an expression?_\n",
    "\n",
    "A return value is the value that a function call evaluates to.\n",
    "\n",
    "Yes, an expression can be part of the return value."
   ]
  },
  {
   "cell_type": "markdown",
   "metadata": {},
   "source": [
    "### Question 8\n",
    "\n",
    "_If a function does not have a return statement, what is the return value of a call to that function?_\n",
    "\n",
    "The function returns the value of __None__.\n"
   ]
  },
  {
   "cell_type": "markdown",
   "metadata": {},
   "source": [
    "### Question 9\n",
    "\n",
    "_How can you force a variable in a function to refer to the global variable?_\n",
    "\n",
    "The __global__ command.\n"
   ]
  },
  {
   "cell_type": "markdown",
   "metadata": {},
   "source": [
    "### Question 10 \n",
    "\n",
    "_What is the data type of None?_\n",
    "\n",
    "__None__ is the value when a value isn't returned."
   ]
  },
  {
   "cell_type": "markdown",
   "metadata": {},
   "source": [
    "### Question 11\n",
    "\n",
    "_What does the __import areallyourpetsnamederic__ statement do?_\n",
    "\n",
    "This statement imports the _areallyourpetsnamederic_ package."
   ]
  },
  {
   "cell_type": "markdown",
   "metadata": {},
   "source": [
    "### Question 12\n",
    "\n",
    "_If you had a function named __bacon()__ in a module named __spam__, how would you call it after importing spam?_\n",
    "\n",
    "import spam\n",
    "spam.bacon()"
   ]
  },
  {
   "cell_type": "markdown",
   "metadata": {},
   "source": [
    "### Question 13\n",
    "\n",
    "_How can you prevent a program from crashing when it gets an error?_\n",
    "\n",
    "Use the try-exception formats."
   ]
  },
  {
   "cell_type": "markdown",
   "metadata": {},
   "source": [
    "### Question 14\n",
    "\n",
    "_What goes in the __try__ clause? What goes in the __except__ clause?_\n",
    "\n",
    "The _try_ clause will contain what is being tried and the return value if it is successful. The _except_ clause will return a statement if an error occurs."
   ]
  },
  {
   "cell_type": "markdown",
   "metadata": {},
   "source": [
    "## Practice Projects"
   ]
  },
  {
   "cell_type": "markdown",
   "metadata": {},
   "source": [
    "### The Collatz Project \n",
    "\n",
    "- Write a function nameed _collatz()_\n",
    "- The function should print the number // 2 if even, and 3 * number + 1 if odd.\n",
    "- Then write a function that continues to call the _collatz()_ function until the integer value of 1 is returned."
   ]
  },
  {
   "cell_type": "code",
   "execution_count": 2,
   "metadata": {},
   "outputs": [
    {
     "data": {
      "text/plain": [
       "10"
      ]
     },
     "execution_count": 2,
     "metadata": {},
     "output_type": "execute_result"
    }
   ],
   "source": [
    "def collatz(number):\n",
    "    if number % 2 == 0:\n",
    "        return number // 2\n",
    "    else:\n",
    "        return 3 * number + 1\n",
    "    \n",
    "collatz(3)"
   ]
  },
  {
   "cell_type": "code",
   "execution_count": 4,
   "metadata": {},
   "outputs": [
    {
     "name": "stdout",
     "output_type": "stream",
     "text": [
      "3\n",
      "10\n",
      "5\n",
      "16\n",
      "8\n",
      "4\n",
      "2\n",
      "1\n"
     ]
    }
   ],
   "source": [
    "def collatz(number):\n",
    "    if number % 2 == 0:\n",
    "        return number // 2\n",
    "    else:\n",
    "        return 3 * number + 1\n",
    "\n",
    "def collatz_loop(number):\n",
    "    \n",
    "    num1 = number\n",
    "    print(num1)\n",
    "    \n",
    "    while num1 != 1: \n",
    "        num1 = collatz(num1)\n",
    "        print(num1)\n",
    "        \n",
    "collatz_loop(3)"
   ]
  },
  {
   "cell_type": "markdown",
   "metadata": {},
   "source": [
    "### Input Validation\n",
    "\n",
    "- Add a try-except clause to test if the user tries to put in a non-integer value"
   ]
  },
  {
   "cell_type": "code",
   "execution_count": 8,
   "metadata": {},
   "outputs": [
    {
     "name": "stdout",
     "output_type": "stream",
     "text": [
      "Testing with an int...\n",
      "3\n",
      "10\n",
      "5\n",
      "16\n",
      "8\n",
      "4\n",
      "2\n",
      "1\n",
      "Testing with a string...\n",
      "That's not an int, buddy...\n"
     ]
    }
   ],
   "source": [
    "def collatz(number):\n",
    "    if number % 2 == 0:\n",
    "        return number // 2\n",
    "    else:\n",
    "        return 3 * number + 1\n",
    "\n",
    "def collatz_loop(number):\n",
    "    \n",
    "    try: \n",
    "        int(number)\n",
    "        \n",
    "        num1 = number\n",
    "        print(num1)\n",
    "\n",
    "        while num1 != 1: \n",
    "            num1 = collatz(num1)\n",
    "            print(num1)\n",
    "            \n",
    "    except ValueError:\n",
    "        print(\"That's not an int, buddy...\")\n",
    "    \n",
    "    \n",
    "print(\"Testing with an int...\")    \n",
    "collatz_loop(3)\n",
    "print(\"Testing with a string...\")\n",
    "collatz_loop(\"puppy\")"
   ]
  },
  {
   "cell_type": "code",
   "execution_count": null,
   "metadata": {},
   "outputs": [],
   "source": []
  }
 ],
 "metadata": {
  "kernelspec": {
   "display_name": "Python 3",
   "language": "python",
   "name": "python3"
  },
  "language_info": {
   "codemirror_mode": {
    "name": "ipython",
    "version": 3
   },
   "file_extension": ".py",
   "mimetype": "text/x-python",
   "name": "python",
   "nbconvert_exporter": "python",
   "pygments_lexer": "ipython3",
   "version": "3.7.3"
  }
 },
 "nbformat": 4,
 "nbformat_minor": 2
}
