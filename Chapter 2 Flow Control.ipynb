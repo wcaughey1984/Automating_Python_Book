{
 "cells": [
  {
   "cell_type": "markdown",
   "metadata": {},
   "source": [
    "# Chapter 2: Flow Control"
   ]
  },
  {
   "cell_type": "markdown",
   "metadata": {},
   "source": [
    "## Boolean Values\n",
    "\n",
    "Booleans = True or False (Notice the capitalized T and F... THEY MUST BE CAPITALIZED!)"
   ]
  },
  {
   "cell_type": "code",
   "execution_count": 1,
   "metadata": {},
   "outputs": [
    {
     "data": {
      "text/plain": [
       "True"
      ]
     },
     "execution_count": 1,
     "metadata": {},
     "output_type": "execute_result"
    }
   ],
   "source": [
    "spam = True\n",
    "spam"
   ]
  },
  {
   "cell_type": "code",
   "execution_count": 2,
   "metadata": {},
   "outputs": [
    {
     "ename": "NameError",
     "evalue": "name 'true' is not defined",
     "output_type": "error",
     "traceback": [
      "\u001b[1;31m---------------------------------------------------------------------------\u001b[0m",
      "\u001b[1;31mNameError\u001b[0m                                 Traceback (most recent call last)",
      "\u001b[1;32m<ipython-input-2-74d9a83219ca>\u001b[0m in \u001b[0;36m<module>\u001b[1;34m()\u001b[0m\n\u001b[1;32m----> 1\u001b[1;33m \u001b[0mtrue\u001b[0m\u001b[1;33m\u001b[0m\u001b[0m\n\u001b[0m",
      "\u001b[1;31mNameError\u001b[0m: name 'true' is not defined"
     ]
    }
   ],
   "source": [
    "true"
   ]
  },
  {
   "cell_type": "code",
   "execution_count": 3,
   "metadata": {},
   "outputs": [
    {
     "ename": "SyntaxError",
     "evalue": "can't assign to keyword (<ipython-input-3-5f87ef2f4024>, line 1)",
     "output_type": "error",
     "traceback": [
      "\u001b[1;36m  File \u001b[1;32m\"<ipython-input-3-5f87ef2f4024>\"\u001b[1;36m, line \u001b[1;32m1\u001b[0m\n\u001b[1;33m    True = 2 + 2\u001b[0m\n\u001b[1;37m                ^\u001b[0m\n\u001b[1;31mSyntaxError\u001b[0m\u001b[1;31m:\u001b[0m can't assign to keyword\n"
     ]
    }
   ],
   "source": [
    "True = 2 + 2"
   ]
  },
  {
   "cell_type": "markdown",
   "metadata": {},
   "source": [
    "## Comparison Operators \n",
    "\n",
    "There are several comparison operators to compare and evaluate values. Some of these operators are:\n",
    "\n",
    "- \"==\" : Equal to\n",
    "- \"!=\" : Not equal to\n",
    "- \"<\" : Less than\n",
    "- \">\" : Greater than\n",
    "- \"<=\" : Less than or equal to\n",
    "- \">=\" : Greater than or equal to"
   ]
  },
  {
   "cell_type": "code",
   "execution_count": 4,
   "metadata": {},
   "outputs": [
    {
     "data": {
      "text/plain": [
       "True"
      ]
     },
     "execution_count": 4,
     "metadata": {},
     "output_type": "execute_result"
    }
   ],
   "source": [
    "42 == 42"
   ]
  },
  {
   "cell_type": "code",
   "execution_count": 5,
   "metadata": {},
   "outputs": [
    {
     "data": {
      "text/plain": [
       "False"
      ]
     },
     "execution_count": 5,
     "metadata": {},
     "output_type": "execute_result"
    }
   ],
   "source": [
    "42 == 49"
   ]
  },
  {
   "cell_type": "code",
   "execution_count": 6,
   "metadata": {},
   "outputs": [
    {
     "data": {
      "text/plain": [
       "True"
      ]
     },
     "execution_count": 6,
     "metadata": {},
     "output_type": "execute_result"
    }
   ],
   "source": [
    "2 != 3"
   ]
  },
  {
   "cell_type": "code",
   "execution_count": 7,
   "metadata": {},
   "outputs": [
    {
     "data": {
      "text/plain": [
       "False"
      ]
     },
     "execution_count": 7,
     "metadata": {},
     "output_type": "execute_result"
    }
   ],
   "source": [
    "2 != 2"
   ]
  },
  {
   "cell_type": "code",
   "execution_count": 8,
   "metadata": {},
   "outputs": [
    {
     "data": {
      "text/plain": [
       "True"
      ]
     },
     "execution_count": 8,
     "metadata": {},
     "output_type": "execute_result"
    }
   ],
   "source": [
    "\"hello\" == \"hello\""
   ]
  },
  {
   "cell_type": "code",
   "execution_count": 9,
   "metadata": {},
   "outputs": [
    {
     "data": {
      "text/plain": [
       "False"
      ]
     },
     "execution_count": 9,
     "metadata": {},
     "output_type": "execute_result"
    }
   ],
   "source": [
    "\"hello\" == \"Hello\""
   ]
  },
  {
   "cell_type": "code",
   "execution_count": 10,
   "metadata": {},
   "outputs": [
    {
     "data": {
      "text/plain": [
       "True"
      ]
     },
     "execution_count": 10,
     "metadata": {},
     "output_type": "execute_result"
    }
   ],
   "source": [
    "\"dog\" != \"cat\""
   ]
  },
  {
   "cell_type": "code",
   "execution_count": 11,
   "metadata": {},
   "outputs": [
    {
     "data": {
      "text/plain": [
       "True"
      ]
     },
     "execution_count": 11,
     "metadata": {},
     "output_type": "execute_result"
    }
   ],
   "source": [
    "True == True"
   ]
  },
  {
   "cell_type": "code",
   "execution_count": 12,
   "metadata": {},
   "outputs": [
    {
     "data": {
      "text/plain": [
       "True"
      ]
     },
     "execution_count": 12,
     "metadata": {},
     "output_type": "execute_result"
    }
   ],
   "source": [
    "True != False"
   ]
  },
  {
   "cell_type": "code",
   "execution_count": 13,
   "metadata": {},
   "outputs": [
    {
     "data": {
      "text/plain": [
       "True"
      ]
     },
     "execution_count": 13,
     "metadata": {},
     "output_type": "execute_result"
    }
   ],
   "source": [
    "42 == 42.0"
   ]
  },
  {
   "cell_type": "code",
   "execution_count": 14,
   "metadata": {},
   "outputs": [
    {
     "data": {
      "text/plain": [
       "True"
      ]
     },
     "execution_count": 14,
     "metadata": {},
     "output_type": "execute_result"
    }
   ],
   "source": [
    "eggCount = 42\n",
    "eggCount <= 42"
   ]
  },
  {
   "cell_type": "code",
   "execution_count": 16,
   "metadata": {},
   "outputs": [
    {
     "data": {
      "text/plain": [
       "True"
      ]
     },
     "execution_count": 16,
     "metadata": {},
     "output_type": "execute_result"
    }
   ],
   "source": [
    "myAge = 29\n",
    "myAge >= 10"
   ]
  },
  {
   "cell_type": "markdown",
   "metadata": {},
   "source": [
    "### Boolean Operators\n",
    "\n",
    "There are thre boolean operators: 'and', 'or', and 'not'.\n",
    "\n",
    "Here is how they work out:\n",
    "\n",
    "\"And\": The first and second segment need to be the same to evaluate to be true\n",
    "- True and True: True; Since the first segment = second segment, the evaluation is true\n",
    "- True and False: False; Since the first segment != second segment, the evaluation is false\n",
    "- False and True: False; Again, the first and second segments are not the same, the evaluation is false\n",
    "- False and False: True; Since the first segment = second segment, the evaluation is true\n",
    "\n",
    "\"Or\": If the first or segment is true, then the evaluation is true\n",
    "- True or True: True, Since the first segment is True, then the evaluation is true\n",
    "- True or False: True, Again, since the first segment is True, the evaluation is true\n",
    "- False or True: True, since the first segment is False, Python evalutes the second statement, which is true\n",
    "- False or False: False, the two fields are not true, hence the evaluation to false.\n",
    "\n",
    "\"Not\": Returns the opposite evaluation of statement\n",
    "- not True: False; the statement is evaluated to True, but the not reassesses the evaluation to False\n",
    "- not not not not True: True, an even amount of 'not' cancels them all out.\n",
    "\n",
    "These operators can be used in combination!"
   ]
  },
  {
   "cell_type": "code",
   "execution_count": 17,
   "metadata": {},
   "outputs": [
    {
     "data": {
      "text/plain": [
       "True"
      ]
     },
     "execution_count": 17,
     "metadata": {},
     "output_type": "execute_result"
    }
   ],
   "source": [
    "(4 < 5) and (5 < 6)"
   ]
  },
  {
   "cell_type": "code",
   "execution_count": 18,
   "metadata": {},
   "outputs": [
    {
     "data": {
      "text/plain": [
       "False"
      ]
     },
     "execution_count": 18,
     "metadata": {},
     "output_type": "execute_result"
    }
   ],
   "source": [
    "(4 < 5) and (9 < 6)"
   ]
  },
  {
   "cell_type": "code",
   "execution_count": 19,
   "metadata": {},
   "outputs": [
    {
     "data": {
      "text/plain": [
       "True"
      ]
     },
     "execution_count": 19,
     "metadata": {},
     "output_type": "execute_result"
    }
   ],
   "source": [
    "(1 == 2) or (2 == 2)"
   ]
  },
  {
   "cell_type": "markdown",
   "metadata": {},
   "source": [
    "## Elements of Flow Control\n",
    "\n",
    "- _Conditions_: Conditions are true / false decision points in the logic\n",
    "- _Blocks of Code_ : Lines in Python are produced in blocks of code. \n",
    "- _Program Execution_ : Execution of the code (or program) that are submitted to Python\n",
    "- _Flow Control Statements_ : These are statements that control how programs are run. These functions are _if_, _else_, and _elif_.\n",
    "- _While Loops_ : Loops which continue until the statemeent is no longer true.\n",
    "- _break_, _continue_ : Statements which stop and skip steps in a program.\n",
    "\n",
    "\n"
   ]
  },
  {
   "cell_type": "code",
   "execution_count": 20,
   "metadata": {},
   "outputs": [
    {
     "name": "stdout",
     "output_type": "stream",
     "text": [
      "Ulike you, Alice is not undead, immortal Vampire\n"
     ]
    }
   ],
   "source": [
    "name = \"Carol\"\n",
    "age = 3000\n",
    "if name == \"Alice\":\n",
    "    print(\"Hi, Alice\")\n",
    "elif age < 12: \n",
    "    print(\"You are not Alice, kiddo\")\n",
    "elif age > 2000:\n",
    "    print(\"Ulike you, Alice is not undead, immortal Vampire\")\n",
    "elif age > 100:\n",
    "    print(\"You are not Alice, grannie!\")\n",
    "        "
   ]
  },
  {
   "cell_type": "code",
   "execution_count": 22,
   "metadata": {},
   "outputs": [
    {
     "name": "stdout",
     "output_type": "stream",
     "text": [
      "Hello, world.\n"
     ]
    }
   ],
   "source": [
    "spam = 0\n",
    "if spam < 5:\n",
    "    print(\"Hello, world.\")\n",
    "    spam = spam + 1"
   ]
  },
  {
   "cell_type": "code",
   "execution_count": 23,
   "metadata": {},
   "outputs": [
    {
     "name": "stdout",
     "output_type": "stream",
     "text": [
      "Hello, world!\n",
      "Hello, world!\n",
      "Hello, world!\n",
      "Hello, world!\n",
      "Hello, world!\n"
     ]
    }
   ],
   "source": [
    "spam = 0\n",
    "while spam < 5:\n",
    "    print(\"Hello, world!\")\n",
    "    spam = spam + 1"
   ]
  },
  {
   "cell_type": "markdown",
   "metadata": {},
   "source": [
    "## Improting Modules\n",
    "\n",
    "The keyword to bring in Python libraries and modules is _import()_."
   ]
  },
  {
   "cell_type": "code",
   "execution_count": 24,
   "metadata": {},
   "outputs": [
    {
     "name": "stdout",
     "output_type": "stream",
     "text": [
      "5\n",
      "4\n",
      "10\n",
      "3\n",
      "2\n"
     ]
    }
   ],
   "source": [
    "import random\n",
    "for i in range(5):\n",
    "    print(random.randint(1, 10))"
   ]
  },
  {
   "cell_type": "code",
   "execution_count": 25,
   "metadata": {
    "collapsed": true
   },
   "outputs": [],
   "source": [
    "# I can bring in multiple modules at a time!\n",
    "import random, sys, os, math"
   ]
  },
  {
   "cell_type": "markdown",
   "metadata": {},
   "source": [
    "## Ending a program early with the sys.exit() Function"
   ]
  },
  {
   "cell_type": "code",
   "execution_count": 26,
   "metadata": {},
   "outputs": [
    {
     "name": "stdout",
     "output_type": "stream",
     "text": [
      "Type exit to exit.\n",
      "Billy\n",
      "You typed Billy.\n",
      "Type exit to exit.\n",
      "Dude\n",
      "You typed Dude.\n",
      "Type exit to exit.\n",
      "exit\n"
     ]
    },
    {
     "ename": "SystemExit",
     "evalue": "",
     "output_type": "error",
     "traceback": [
      "An exception has occurred, use %tb to see the full traceback.\n",
      "\u001b[1;31mSystemExit\u001b[0m\n"
     ]
    },
    {
     "name": "stderr",
     "output_type": "stream",
     "text": [
      "C:\\Users\\Owner\\Anaconda3\\lib\\site-packages\\IPython\\core\\interactiveshell.py:2870: UserWarning: To exit: use 'exit', 'quit', or Ctrl-D.\n",
      "  warn(\"To exit: use 'exit', 'quit', or Ctrl-D.\", stacklevel=1)\n"
     ]
    }
   ],
   "source": [
    "import sys\n",
    "while True:\n",
    "    print(\"Type exit to exit.\")\n",
    "    response = input()\n",
    "    if response == \"exit\":\n",
    "        sys.exit()\n",
    "    print(\"You typed \" + response + \".\")"
   ]
  },
  {
   "cell_type": "markdown",
   "metadata": {},
   "source": [
    "## A short program: Guess the Number"
   ]
  },
  {
   "cell_type": "code",
   "execution_count": null,
   "metadata": {},
   "outputs": [],
   "source": [
    "import random\n",
    "secretNumber = random.randint(1, 20)\n",
    "\n",
    "print(\"I'm think of a number between 1 and 20...\")\n",
    "\n",
    "# Ask the player to guess 6 times...\n",
    "for guessesTaken in range(1, 7):\n",
    "    print(\"Take a guess...\")\n",
    "    guess = int(input())\n",
    "    \n",
    "    if guess < secretNumber:\n",
    "        print(\"Your guess is too low!\")\n",
    "    elif guess > secretNumber:\n",
    "        print(\"Your guess is too high!\")\n",
    "    else:\n",
    "        break #ends loop because user guessed right\n",
    "        \n",
    "if guess == secretNumber:\n",
    "    print(\"Good job! You guess my number in \" + str(guessesTaken) + \" guesses!\")\n",
    "else: \n",
    "    print(\"Nope. The nubmer I was thinking of was \" + str(secretNumber))\n",
    "    \n",
    "    "
   ]
  },
  {
   "cell_type": "code",
   "execution_count": null,
   "metadata": {
    "collapsed": true
   },
   "outputs": [],
   "source": []
  },
  {
   "cell_type": "markdown",
   "metadata": {},
   "source": [
    "## A short program: Rock, Paper, Scissors"
   ]
  },
  {
   "cell_type": "code",
   "execution_count": 1,
   "metadata": {},
   "outputs": [
    {
     "name": "stdout",
     "output_type": "stream",
     "text": [
      "Rock, paper, scissors\n",
      "0 Wins, 0 Losses, 0 Ties\n",
      "Enter your move: (r)ock, (p)aper, (s)cissors or, (q)uit\n",
      "r\n",
      "Rock vs...\n",
      "Paper!\n",
      "You lose...\n",
      "0 Wins, 1 Losses, 0 Ties\n",
      "Enter your move: (r)ock, (p)aper, (s)cissors or, (q)uit\n",
      "p\n",
      "Paper vs...\n",
      "Rock!\n",
      "You win!\n",
      "1 Wins, 1 Losses, 0 Ties\n",
      "Enter your move: (r)ock, (p)aper, (s)cissors or, (q)uit\n",
      "s\n",
      "Scissors vs...\n",
      "Paper!\n",
      "You win!\n",
      "2 Wins, 1 Losses, 0 Ties\n",
      "Enter your move: (r)ock, (p)aper, (s)cissors or, (q)uit\n",
      "q\n"
     ]
    },
    {
     "ename": "SystemExit",
     "evalue": "",
     "output_type": "error",
     "traceback": [
      "An exception has occurred, use %tb to see the full traceback.\n",
      "\u001b[1;31mSystemExit\u001b[0m\n"
     ]
    },
    {
     "name": "stderr",
     "output_type": "stream",
     "text": [
      "C:\\Users\\Owner\\Anaconda3\\lib\\site-packages\\IPython\\core\\interactiveshell.py:2870: UserWarning: To exit: use 'exit', 'quit', or Ctrl-D.\n",
      "  warn(\"To exit: use 'exit', 'quit', or Ctrl-D.\", stacklevel=1)\n"
     ]
    }
   ],
   "source": [
    "import random, sys\n",
    "\n",
    "print(\"Rock, paper, scissors\")\n",
    "\n",
    "wins = 0\n",
    "losses = 0\n",
    "ties = 0\n",
    "\n",
    "while True:\n",
    "    print(\"%s Wins, %s Losses, %s Ties\" % (wins, losses, ties))\n",
    "    \n",
    "    # Player input loop\n",
    "    while True:\n",
    "        print(\"Enter your move: (r)ock, (p)aper, (s)cissors or, (q)uit\")\n",
    "        playerMove = input()\n",
    "        if playerMove == \"q\":\n",
    "            sys.exit()\n",
    "        if playerMove == \"r\" or playerMove == \"p\" or playerMove == \"s\":\n",
    "            break\n",
    "            \n",
    "    # Display what the player chose:\n",
    "    if playerMove == \"r\":\n",
    "        print(\"Rock vs...\")\n",
    "    elif playerMove == \"p\":\n",
    "        print(\"Paper vs...\")\n",
    "    elif playerMove == \"s\":\n",
    "        print(\"Scissors vs...\")\n",
    "        \n",
    "    # Display what the computer chose:\n",
    "    randomNumber = random.randint(1, 3)\n",
    "    if randomNumber == 1:\n",
    "        computerMove = \"r\"\n",
    "        print(\"Rock!\")\n",
    "    elif randomNumber == 2:\n",
    "        computerMove = \"p\"\n",
    "        print(\"Paper!\")\n",
    "    elif randomNumber == 3:\n",
    "        computerMove = \"s\"\n",
    "        print(\"Scissors!\")\n",
    "        \n",
    "    # Display and record the win/loss/ties\n",
    "    if playerMove == computerMove:\n",
    "        print(\"It's a tie!\")\n",
    "        ties = ties + 1\n",
    "    elif (playerMove == \"p\" and computerMove == \"r\") or (playerMove == \"r\" and computerMove == \"s\") or (playerMove == \"s\" and computerMove == \"p\"):\n",
    "        print(\"You win!\")\n",
    "        wins = wins + 1\n",
    "    elif (computerMove == \"p\" and playerMove == \"r\") or (computerMove == \"r\" and playerMove == \"s\") or (computerMove == \"s\" and playerMove == \"p\"):\n",
    "        print(\"You lose...\")\n",
    "        losses = losses + 1"
   ]
  },
  {
   "cell_type": "markdown",
   "metadata": {
    "collapsed": true
   },
   "source": [
    "## Practice Questions"
   ]
  },
  {
   "cell_type": "markdown",
   "metadata": {},
   "source": [
    "### Question 1\n",
    "\n",
    "_What are the two values of the Boolean data type? How do you write them?_\n",
    "\n",
    "The two values are true and false. In Python, they are written as _True_ and _False_."
   ]
  },
  {
   "cell_type": "markdown",
   "metadata": {},
   "source": [
    "### Question 2\n",
    "\n",
    "_Whare are the three Boolean operators?_\n",
    "\n",
    "1. And\n",
    "2. Or\n",
    "3. Not"
   ]
  },
  {
   "cell_type": "markdown",
   "metadata": {},
   "source": [
    "### Question 3\n",
    "\n",
    "_Write out the truth tables of each Boolean operator (that is, every possible combination of Boolean values for the oeprator and what they evaluate to)._\n",
    "\n",
    "* True and True = True\n",
    "* True and False = False\n",
    "* False and True = False\n",
    "* False and False = True\n",
    "* True or True = True\n",
    "* True or False = True\n",
    "* False or True = True\n",
    "* False or False = False"
   ]
  },
  {
   "cell_type": "markdown",
   "metadata": {},
   "source": [
    "### Question 4 \n",
    "\n",
    "_What do the following expressions evaluate to?_\n",
    "\n",
    "_(5 > 4) and (3 == 5)_\n",
    "\n",
    "False\n",
    "\n",
    "_not (5 > 4)_\n",
    "\n",
    "False\n",
    "\n",
    "_(5 > 4) or (3 == 5)_\n",
    "\n",
    "True\n",
    "\n",
    "_(True and True) and (True == False)_\n",
    "\n",
    "False\n",
    "\n",
    "_(not False) or (not True)_\n",
    "\n",
    "True"
   ]
  },
  {
   "cell_type": "markdown",
   "metadata": {},
   "source": [
    "### Question 5\n",
    "\n",
    "_What are the six comparison operators?_\n",
    "\n",
    "* \"==\" : equal to\n",
    "* \"!=\" : not equal\n",
    "* \">\" : greater than\n",
    "* \">=\" : greater than or equal to\n",
    "* \"<\" : less than\n",
    "* \"<=\" : less than or equal to"
   ]
  },
  {
   "cell_type": "markdown",
   "metadata": {},
   "source": [
    "### Question 6\n",
    "\n",
    "_What is the difference between the assignment operator and the equal to operator?_\n",
    "\n",
    "The difference is a single = is assignment and == is equal to."
   ]
  },
  {
   "cell_type": "markdown",
   "metadata": {},
   "source": [
    "### Question 7\n",
    "\n",
    "_Explain what a condition is and where you would use one?_\n",
    "\n",
    "A condition is a statement that enables an action to occur."
   ]
  },
  {
   "cell_type": "markdown",
   "metadata": {},
   "source": [
    "### Question 8\n",
    "\n",
    "_Identify the three blocks in this code._\n",
    "\n",
    "Block 1:\n",
    "\n",
    "spam = 0\n",
    "\n",
    "Block2: \n",
    "\n",
    "if spam == 10:\n",
    "    print('eggs')\n",
    "    \n",
    "Block 3:\n",
    "\n",
    "    if spam > 5:\n",
    "        print('bacon')\n",
    "    else:\n",
    "        print('ham')\n",
    "    print('spam')\n",
    "    \n",
    "print('spam')"
   ]
  },
  {
   "cell_type": "markdown",
   "metadata": {},
   "source": [
    "### Question 9\n",
    "\n",
    "_Write code that prints \"Hello\" if 1 is stored in spam, prints \"Howdy\" if 2, and prints \"Greetings!\" if anythikng else is stored in spam._"
   ]
  },
  {
   "cell_type": "code",
   "execution_count": 2,
   "metadata": {},
   "outputs": [
    {
     "name": "stdout",
     "output_type": "stream",
     "text": [
      "Please enter any integer number.\n",
      "2\n",
      "Howdy\n"
     ]
    }
   ],
   "source": [
    "print(\"Please enter any integer number.\")\n",
    "spam = int(input())\n",
    "\n",
    "if spam == 1:\n",
    "    print(\"Hello\")\n",
    "elif spam == 2:\n",
    "    print(\"Howdy\")\n",
    "else:\n",
    "    print(\"Greetings!\")"
   ]
  },
  {
   "cell_type": "markdown",
   "metadata": {},
   "source": [
    "### Question 10\n",
    "\n",
    "_What keys can you press if you program is stuck in an infinite loop?_\n",
    "\n",
    "The 'escape' key is the key to hit on the infinite loop."
   ]
  },
  {
   "cell_type": "markdown",
   "metadata": {},
   "source": [
    "### Question 11\n",
    "\n",
    "_What is the difference between break and continue?_\n",
    "\n",
    "Break kills the loop and exits the loop.\n",
    "\n",
    "Continue just moves the loop to the next value."
   ]
  },
  {
   "cell_type": "markdown",
   "metadata": {},
   "source": [
    "### Question 12\n",
    "\n",
    "_What is the difference between range(10), range(0,10), and range(0,10,1) in a for loop?_\n",
    "\n",
    "The results are the same. The inputs for range are start, stop, and step. The defaults for start and step are 0 and 1. Thus, all ranges are the same that are listed."
   ]
  },
  {
   "cell_type": "markdown",
   "metadata": {},
   "source": [
    "### Question 13\n",
    "\n",
    "_Write a short program that prints the numbers 1 to 10 using a for loop. Then write an equivalent program that prints 1 to 10 using a while loop._"
   ]
  },
  {
   "cell_type": "code",
   "execution_count": 9,
   "metadata": {},
   "outputs": [
    {
     "name": "stdout",
     "output_type": "stream",
     "text": [
      "1\n",
      "2\n",
      "3\n",
      "4\n",
      "5\n",
      "6\n",
      "7\n",
      "8\n",
      "9\n",
      "10\n"
     ]
    }
   ],
   "source": [
    "# program 1\n",
    "\n",
    "for i in range(1, 11):\n",
    "    print(i)"
   ]
  },
  {
   "cell_type": "code",
   "execution_count": 10,
   "metadata": {},
   "outputs": [
    {
     "name": "stdout",
     "output_type": "stream",
     "text": [
      "1\n",
      "2\n",
      "3\n",
      "4\n",
      "5\n",
      "6\n",
      "7\n",
      "8\n",
      "9\n",
      "10\n"
     ]
    }
   ],
   "source": [
    "# Program 2\n",
    "i = 1\n",
    "while i < 11:\n",
    "    print(i)\n",
    "    i = i + 1"
   ]
  },
  {
   "cell_type": "markdown",
   "metadata": {},
   "source": [
    "### Question 13:\n",
    "\n",
    "_If you had a function named bacon() inside a module named spam, how would you call it after importing spam?_\n",
    "\n",
    "spam.bacon()"
   ]
  }
 ],
 "metadata": {
  "kernelspec": {
   "display_name": "Python 3",
   "language": "python",
   "name": "python3"
  }
 },
 "nbformat": 4,
 "nbformat_minor": 2
}
